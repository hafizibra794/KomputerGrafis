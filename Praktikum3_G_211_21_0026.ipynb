{
  "nbformat": 4,
  "nbformat_minor": 0,
  "metadata": {
    "colab": {
      "provenance": [],
      "authorship_tag": "ABX9TyPbdQ260wJJ3XER5Vge+AbE",
      "include_colab_link": true
    },
    "kernelspec": {
      "name": "python3",
      "display_name": "Python 3"
    },
    "language_info": {
      "name": "python"
    }
  },
  "cells": [
    {
      "cell_type": "markdown",
      "metadata": {
        "id": "view-in-github",
        "colab_type": "text"
      },
      "source": [
        "<a href=\"https://colab.research.google.com/github/hafizibra794/MachineLearning/blob/main/Praktikum3_G_211_21_0026.ipynb\" target=\"_parent\"><img src=\"https://colab.research.google.com/assets/colab-badge.svg\" alt=\"Open In Colab\"/></a>"
      ]
    },
    {
      "cell_type": "code",
      "execution_count": null,
      "metadata": {
        "colab": {
          "base_uri": "https://localhost:8080/",
          "height": 38
        },
        "id": "6wInhIl0xZvQ",
        "outputId": "b0270a6b-ccbf-4684-f4a3-62dca5d6dd8f"
      },
      "outputs": [
        {
          "output_type": "display_data",
          "data": {
            "text/plain": [
              "<IPython.core.display.HTML object>"
            ],
            "text/html": [
              "\n",
              "     <input type=\"file\" id=\"files-992b44e5-6217-4600-b48a-9fdae6b0873e\" name=\"files[]\" multiple disabled\n",
              "        style=\"border:none\" />\n",
              "     <output id=\"result-992b44e5-6217-4600-b48a-9fdae6b0873e\">\n",
              "      Upload widget is only available when the cell has been executed in the\n",
              "      current browser session. Please rerun this cell to enable.\n",
              "      </output>\n",
              "      <script>// Copyright 2017 Google LLC\n",
              "//\n",
              "// Licensed under the Apache License, Version 2.0 (the \"License\");\n",
              "// you may not use this file except in compliance with the License.\n",
              "// You may obtain a copy of the License at\n",
              "//\n",
              "//      http://www.apache.org/licenses/LICENSE-2.0\n",
              "//\n",
              "// Unless required by applicable law or agreed to in writing, software\n",
              "// distributed under the License is distributed on an \"AS IS\" BASIS,\n",
              "// WITHOUT WARRANTIES OR CONDITIONS OF ANY KIND, either express or implied.\n",
              "// See the License for the specific language governing permissions and\n",
              "// limitations under the License.\n",
              "\n",
              "/**\n",
              " * @fileoverview Helpers for google.colab Python module.\n",
              " */\n",
              "(function(scope) {\n",
              "function span(text, styleAttributes = {}) {\n",
              "  const element = document.createElement('span');\n",
              "  element.textContent = text;\n",
              "  for (const key of Object.keys(styleAttributes)) {\n",
              "    element.style[key] = styleAttributes[key];\n",
              "  }\n",
              "  return element;\n",
              "}\n",
              "\n",
              "// Max number of bytes which will be uploaded at a time.\n",
              "const MAX_PAYLOAD_SIZE = 100 * 1024;\n",
              "\n",
              "function _uploadFiles(inputId, outputId) {\n",
              "  const steps = uploadFilesStep(inputId, outputId);\n",
              "  const outputElement = document.getElementById(outputId);\n",
              "  // Cache steps on the outputElement to make it available for the next call\n",
              "  // to uploadFilesContinue from Python.\n",
              "  outputElement.steps = steps;\n",
              "\n",
              "  return _uploadFilesContinue(outputId);\n",
              "}\n",
              "\n",
              "// This is roughly an async generator (not supported in the browser yet),\n",
              "// where there are multiple asynchronous steps and the Python side is going\n",
              "// to poll for completion of each step.\n",
              "// This uses a Promise to block the python side on completion of each step,\n",
              "// then passes the result of the previous step as the input to the next step.\n",
              "function _uploadFilesContinue(outputId) {\n",
              "  const outputElement = document.getElementById(outputId);\n",
              "  const steps = outputElement.steps;\n",
              "\n",
              "  const next = steps.next(outputElement.lastPromiseValue);\n",
              "  return Promise.resolve(next.value.promise).then((value) => {\n",
              "    // Cache the last promise value to make it available to the next\n",
              "    // step of the generator.\n",
              "    outputElement.lastPromiseValue = value;\n",
              "    return next.value.response;\n",
              "  });\n",
              "}\n",
              "\n",
              "/**\n",
              " * Generator function which is called between each async step of the upload\n",
              " * process.\n",
              " * @param {string} inputId Element ID of the input file picker element.\n",
              " * @param {string} outputId Element ID of the output display.\n",
              " * @return {!Iterable<!Object>} Iterable of next steps.\n",
              " */\n",
              "function* uploadFilesStep(inputId, outputId) {\n",
              "  const inputElement = document.getElementById(inputId);\n",
              "  inputElement.disabled = false;\n",
              "\n",
              "  const outputElement = document.getElementById(outputId);\n",
              "  outputElement.innerHTML = '';\n",
              "\n",
              "  const pickedPromise = new Promise((resolve) => {\n",
              "    inputElement.addEventListener('change', (e) => {\n",
              "      resolve(e.target.files);\n",
              "    });\n",
              "  });\n",
              "\n",
              "  const cancel = document.createElement('button');\n",
              "  inputElement.parentElement.appendChild(cancel);\n",
              "  cancel.textContent = 'Cancel upload';\n",
              "  const cancelPromise = new Promise((resolve) => {\n",
              "    cancel.onclick = () => {\n",
              "      resolve(null);\n",
              "    };\n",
              "  });\n",
              "\n",
              "  // Wait for the user to pick the files.\n",
              "  const files = yield {\n",
              "    promise: Promise.race([pickedPromise, cancelPromise]),\n",
              "    response: {\n",
              "      action: 'starting',\n",
              "    }\n",
              "  };\n",
              "\n",
              "  cancel.remove();\n",
              "\n",
              "  // Disable the input element since further picks are not allowed.\n",
              "  inputElement.disabled = true;\n",
              "\n",
              "  if (!files) {\n",
              "    return {\n",
              "      response: {\n",
              "        action: 'complete',\n",
              "      }\n",
              "    };\n",
              "  }\n",
              "\n",
              "  for (const file of files) {\n",
              "    const li = document.createElement('li');\n",
              "    li.append(span(file.name, {fontWeight: 'bold'}));\n",
              "    li.append(span(\n",
              "        `(${file.type || 'n/a'}) - ${file.size} bytes, ` +\n",
              "        `last modified: ${\n",
              "            file.lastModifiedDate ? file.lastModifiedDate.toLocaleDateString() :\n",
              "                                    'n/a'} - `));\n",
              "    const percent = span('0% done');\n",
              "    li.appendChild(percent);\n",
              "\n",
              "    outputElement.appendChild(li);\n",
              "\n",
              "    const fileDataPromise = new Promise((resolve) => {\n",
              "      const reader = new FileReader();\n",
              "      reader.onload = (e) => {\n",
              "        resolve(e.target.result);\n",
              "      };\n",
              "      reader.readAsArrayBuffer(file);\n",
              "    });\n",
              "    // Wait for the data to be ready.\n",
              "    let fileData = yield {\n",
              "      promise: fileDataPromise,\n",
              "      response: {\n",
              "        action: 'continue',\n",
              "      }\n",
              "    };\n",
              "\n",
              "    // Use a chunked sending to avoid message size limits. See b/62115660.\n",
              "    let position = 0;\n",
              "    do {\n",
              "      const length = Math.min(fileData.byteLength - position, MAX_PAYLOAD_SIZE);\n",
              "      const chunk = new Uint8Array(fileData, position, length);\n",
              "      position += length;\n",
              "\n",
              "      const base64 = btoa(String.fromCharCode.apply(null, chunk));\n",
              "      yield {\n",
              "        response: {\n",
              "          action: 'append',\n",
              "          file: file.name,\n",
              "          data: base64,\n",
              "        },\n",
              "      };\n",
              "\n",
              "      let percentDone = fileData.byteLength === 0 ?\n",
              "          100 :\n",
              "          Math.round((position / fileData.byteLength) * 100);\n",
              "      percent.textContent = `${percentDone}% done`;\n",
              "\n",
              "    } while (position < fileData.byteLength);\n",
              "  }\n",
              "\n",
              "  // All done.\n",
              "  yield {\n",
              "    response: {\n",
              "      action: 'complete',\n",
              "    }\n",
              "  };\n",
              "}\n",
              "\n",
              "scope.google = scope.google || {};\n",
              "scope.google.colab = scope.google.colab || {};\n",
              "scope.google.colab._files = {\n",
              "  _uploadFiles,\n",
              "  _uploadFilesContinue,\n",
              "};\n",
              "})(self);\n",
              "</script> "
            ]
          },
          "metadata": {}
        }
      ],
      "source": [
        "# importing modules and packages\n",
        "import pandas as pd\n",
        "import numpy as np\n",
        "import matplotlib.pyplot as plt\n",
        "import seaborn as sns\n",
        "from sklearn.model_selection import train_test_split\n",
        "from sklearn.linear_model import LinearRegression\n",
        "from sklearn.metrics import mean_squared_error, mean_absolute_error\n",
        "from sklearn import preprocessing\n",
        "\n",
        "from google.colab import files\n",
        "uploaded = files.upload()"
      ]
    },
    {
      "cell_type": "code",
      "source": [
        "# importing data\n",
        "df = pd.read_csv('Real-estate1.csv')\n",
        "df.drop('No', inplace = True,axis=1)\n",
        "\n",
        "print(df.head())\n",
        "print(df.columns)"
      ],
      "metadata": {
        "id": "s9PURZaiyecc"
      },
      "execution_count": null,
      "outputs": []
    },
    {
      "cell_type": "code",
      "source": [
        "# plotting a scatterplot\n",
        "sns.scatterplot(x='X4 number of convenience stores',\n",
        "                y='Y house price of unit area', data=df)"
      ],
      "metadata": {
        "id": "nSObfgDDzBXS"
      },
      "execution_count": null,
      "outputs": []
    },
    {
      "cell_type": "code",
      "source": [
        "# creating feature variables\n",
        "x = df.drop('Y house price of unit area',axis= 1)\n",
        "y = df['Y house price of unit area']\n",
        "print(x)\n",
        "print(y)"
      ],
      "metadata": {
        "id": "4MouyXvFzISF"
      },
      "execution_count": null,
      "outputs": []
    },
    {
      "cell_type": "code",
      "source": [
        "# creating train and test sets\n",
        "x_train, x_test, y_train, y_test = train_test_split(\n",
        "    x, y, test_size=0.3, random_state=101)"
      ],
      "metadata": {
        "id": "K4L4x_ydzsoa"
      },
      "execution_count": null,
      "outputs": []
    },
    {
      "cell_type": "code",
      "source": [
        "# creating a regression model\n",
        "model = LinearRegression()"
      ],
      "metadata": {
        "id": "goL3dIKuzxLZ"
      },
      "execution_count": null,
      "outputs": []
    },
    {
      "cell_type": "code",
      "source": [
        "# fitting the model\n",
        "model.fit(x_train,y_train)"
      ],
      "metadata": {
        "id": "2CV_Z5Pez5Kp"
      },
      "execution_count": null,
      "outputs": []
    },
    {
      "cell_type": "code",
      "source": [
        "# making predictions\n",
        "predictions = model.predict(x_test)"
      ],
      "metadata": {
        "id": "CpmHzkxxz9eH"
      },
      "execution_count": null,
      "outputs": []
    },
    {
      "cell_type": "code",
      "source": [
        "# model evaluation\n",
        "print(\n",
        "    'mean_squared_error : ', mean_squared_error(y_test, predictions))\n",
        "print(\n",
        "    'mean_absolute_error : ', mean_absolute_error(y_test, predictions))"
      ],
      "metadata": {
        "id": "PC6ziWJL0Ba7"
      },
      "execution_count": null,
      "outputs": []
    },
    {
      "cell_type": "code",
      "source": [
        "# import libraries\n",
        "from sklearn.datasets import load_iris\n",
        "from sklearn.model_selection import train_test_split\n",
        "from sklearn.linear_model import LogisticRegression\n",
        "from sklearn.metrics import accuracy_score, confusion_matrix\n",
        "import matplotlib.pyplot as plt\n",
        "import numpy as np\n",
        "\n",
        "# load the iris dataset\n",
        "iris = load_iris()\n",
        "x = iris.data\n",
        "y = iris.target\n",
        "\n",
        "# split the data into training and testing sets\n",
        "x_train, x_test,\\\n",
        "y_train, y_test = train_test_split(x, y,\n",
        "                                   test_size=0.2,\n",
        "                                   random_state=42)\n",
        "\n",
        "# create a Multinomial logistic regression model\n",
        "multi_logreg = LogisticRegression(multi_class='multinomial',\n",
        "                                  solver='lbfgs')\n",
        "multi_logreg.fit(x_train, y_train)\n",
        "\n",
        "# create a One-vs-Rest logistic regression model\n",
        "ovr_logreg = LogisticRegression(multi_class='ovr',\n",
        "                                solver='liblinear')\n",
        "ovr_logreg.fit(x_train, y_train)"
      ],
      "metadata": {
        "id": "okKYC3G_0El1"
      },
      "execution_count": null,
      "outputs": []
    },
    {
      "cell_type": "code",
      "source": [
        "# make predictions using the trained models\n",
        "y_pred_multi = multi_logreg.predict(x_test)\n",
        "y_pred_ovr = ovr_logreg.predict(x_test)\n",
        "\n",
        "# evaluate the performance of the models\n",
        "# using accuracy score and confusion matrix\n",
        "print('Multinomial logistic regression accuracy:',\n",
        "      accuracy_score(y_test, y_pred_multi))\n",
        "print('One-vs-Rest logistic regression accuracy:',\n",
        "      accuracy_score(y_test, y_pred_ovr))\n",
        "\n",
        "conf_mat_multi = confusion_matrix(y_test, y_pred_multi)\n",
        "conf_mat_ovr = confusion_matrix(y_test, y_pred_ovr)\n",
        "\n",
        "# plot the confusion matrices\n",
        "fig, axs = plt.subplots(ncols=2, figsize=(10, 5))\n",
        "axs[0].imshow(conf_mat_multi, cmap=plt.cm.Blues)\n",
        "axs[0].set_title('Multinomial logistic regression')\n",
        "axs[0].set_xlabel('Predicted labels')\n",
        "axs[0].set_ylabel('True labels')\n",
        "axs[0].set_xticks(np.arange(len(iris.target_names)))\n",
        "axs[0].set_xticklabels(iris.target_names)\n",
        "axs[0].set_yticklabels(iris.target_names)\n",
        "axs[1].imshow(conf_mat_ovr, cmap=plt.cm.Blues)\n",
        "axs[1].set_title('One-vs-Rest logistic regression')\n",
        "axs[1].set_xlabel('Predicted labels')\n",
        "axs[1].set_ylabel('True labels')\n",
        "axs[1].set_xticks(np.arange(len(iris.target_names)))\n",
        "axs[1].set_xticklabels(iris.target_names)\n",
        "axs[1].set_yticks(np.arange(len(iris.target_names)))\n",
        "axs[1].set_yticklabels(iris.target_names)\n",
        "plt.show()"
      ],
      "metadata": {
        "id": "U9mTAJQU0LCD"
      },
      "execution_count": null,
      "outputs": []
    },
    {
      "cell_type": "code",
      "source": [
        "# Multinomial Logistic Regression Plot"
      ],
      "metadata": {
        "id": "fOH2nXEp0PQB"
      },
      "execution_count": null,
      "outputs": []
    },
    {
      "cell_type": "code",
      "source": [
        "import numpy as np\n",
        "import matplotlib.pyplot as plt\n",
        "from sklearn.datasets import load_iris\n",
        "from sklearn.linear_model import LogisticRegression\n",
        "\n",
        "iris=load_iris()\n",
        "\n",
        "X=iris.data[:,:2]\n",
        "y=iris.target\n",
        "\n",
        "clf=LogisticRegression(random_state=0,\n",
        "                       multi_class='ovr',\n",
        "                       solver='liblinear')\n",
        "\n",
        "clf.fit(X,y)\n",
        "\n",
        "x_min, x_max=X[:,0].min()-.5,X[:,0].max()+.5\n",
        "y_min, y_max=X[:,1].min()-.5,X[:,1].max()+.5\n",
        "xx,yy=np.meshgrid(np.arange(x_min,x_max,0.2),\n",
        "                  np.arange(y_min,y_max,0.2))\n",
        "Z=clf.predict(np.c_[xx.ravel(),yy.ravel()])\n",
        "Z=Z.reshape(xx.shape)\n",
        "plt.figure(1,figsize=(4,3))\n",
        "plt.pcolormesh(xx,yy,Z,cmap=plt.cm.Paired)\n",
        "plt.scatter(X[:,0],X[:,1],c=y,edgecolors='k',\n",
        "            cmap=plt.cm.Paired)\n",
        "plt.xlabel('Sepal length')\n",
        "plt.ylabel('Sepal width')\n",
        "plt.title('One-vs-Rest Logistic regression')\n",
        "plt.show()"
      ],
      "metadata": {
        "id": "Wm8KObD10ShF"
      },
      "execution_count": null,
      "outputs": []
    },
    {
      "cell_type": "code",
      "source": [],
      "metadata": {
        "id": "fHVtlH3z0WTD"
      },
      "execution_count": null,
      "outputs": []
    }
  ]
}